{
 "cells": [
  {
   "cell_type": "code",
   "execution_count": 13,
   "id": "e0291981",
   "metadata": {},
   "outputs": [
    {
     "name": "stdout",
     "output_type": "stream",
     "text": [
      "The autoreload extension is already loaded. To reload it, use:\n",
      "  %reload_ext autoreload\n"
     ]
    }
   ],
   "source": [
    "%matplotlib inline\n",
    "import numpy as np\n",
    "import matplotlib.pyplot as plt\n",
    "import datetime\n",
    "from helpfulfun import *\n",
    "%load_ext autoreload\n",
    "%autoreload 2\n"
   ]
  },
  {
   "cell_type": "markdown",
   "id": "aa27a83c",
   "metadata": {},
   "source": [
    "### Import the dataset"
   ]
  },
  {
   "cell_type": "code",
   "execution_count": 14,
   "id": "796127f2",
   "metadata": {},
   "outputs": [],
   "source": [
    "#### import the datasets\n",
    "\n",
    "train_list = np.genfromtxt(\"train.csv\", dtype=None, delimiter=\",\", skip_header =0, unpack=True, encoding=None)\n",
    "train = np.array(train_list)\n",
    "\n",
    "test_list = np.genfromtxt(\"test.csv\", dtype=None, delimiter=\",\", skip_header =1, unpack=True, encoding=None)\n",
    "test = np.array(test_list)"
   ]
  },
  {
   "cell_type": "code",
   "execution_count": 15,
   "id": "0d107229",
   "metadata": {},
   "outputs": [],
   "source": [
    "x_te = test[2:].T"
   ]
  },
  {
   "cell_type": "code",
   "execution_count": 16,
   "id": "fa62533d",
   "metadata": {},
   "outputs": [
    {
     "name": "stdout",
     "output_type": "stream",
     "text": [
      "x:  (250000, 30)  y:  (250000,)\n"
     ]
    }
   ],
   "source": [
    "y = train[1, 1:]\n",
    "x_tr = train[2:,1: ].T.astype('float')\n",
    "print(\"x: \", x_tr.shape, \" y: \", y.shape)"
   ]
  },
  {
   "cell_type": "code",
   "execution_count": 17,
   "id": "090f7a14",
   "metadata": {},
   "outputs": [
    {
     "name": "stdout",
     "output_type": "stream",
     "text": [
      "(250000,)  and y[:5]:  [ 1 -1 -1 -1 -1]\n"
     ]
    }
   ],
   "source": [
    "y_tr = np.where(y == \"s\",1,-1)\n",
    "print(y_tr.shape, \" and y[:5]: \", y_tr[:5])"
   ]
  },
  {
   "cell_type": "code",
   "execution_count": 18,
   "id": "620d4a23",
   "metadata": {},
   "outputs": [
    {
     "data": {
      "text/plain": [
       "array([2, 1, 1, ..., 1, 0, 0])"
      ]
     },
     "execution_count": 18,
     "metadata": {},
     "output_type": "execute_result"
    }
   ],
   "source": [
    "x_tr[:,22].astype(int)"
   ]
  },
  {
   "cell_type": "markdown",
   "id": "59e7ad80",
   "metadata": {},
   "source": [
    "### Pre processing"
   ]
  },
  {
   "cell_type": "code",
   "execution_count": 19,
   "id": "58884f87",
   "metadata": {
    "scrolled": false
   },
   "outputs": [
    {
     "name": "stdout",
     "output_type": "stream",
     "text": [
      "0 38114 DER_mass_MMC\n",
      "1 0 DER_mass_transverse_met_lep\n",
      "2 0 DER_mass_vis\n",
      "3 0 DER_pt_h\n",
      "4 177457 DER_deltaeta_jet_jet\n",
      "5 177457 DER_mass_jet_jet\n",
      "6 177457 DER_prodeta_jet_jet\n",
      "7 0 DER_deltar_tau_lep\n",
      "8 0 DER_pt_tot\n",
      "9 0 DER_sum_pt\n",
      "10 0 DER_pt_ratio_lep_tau\n",
      "11 0 DER_met_phi_centrality\n",
      "12 177457 DER_lep_eta_centrality\n",
      "13 0 PRI_tau_pt\n",
      "14 0 PRI_tau_eta\n",
      "15 0 PRI_tau_phi\n",
      "16 0 PRI_lep_pt\n",
      "17 0 PRI_lep_eta\n",
      "18 0 PRI_lep_phi\n",
      "19 0 PRI_met\n",
      "20 0 PRI_met_phi\n",
      "21 0 PRI_met_sumet\n",
      "22 0 PRI_jet_num\n",
      "23 99913 PRI_jet_leading_pt\n",
      "24 99913 PRI_jet_leading_eta\n",
      "25 99913 PRI_jet_leading_phi\n",
      "26 177457 PRI_jet_subleading_pt\n",
      "27 177457 PRI_jet_subleading_eta\n",
      "28 177457 PRI_jet_subleading_phi\n",
      "29 0 PRI_jet_all_pt\n"
     ]
    }
   ],
   "source": [
    "for i in range(x_tr.shape[1] ):\n",
    "    print(i, np.count_nonzero(abs(x_tr[:,i]) == 999.0), train[i+2, 0])\n"
   ]
  },
  {
   "cell_type": "code",
   "execution_count": 25,
   "id": "9700fbaa",
   "metadata": {},
   "outputs": [
    {
     "name": "stdout",
     "output_type": "stream",
     "text": [
      "0 38114 DER_mass_MMC\n",
      "1 0 DER_mass_transverse_met_lep\n",
      "2 0 DER_mass_vis\n",
      "3 0 DER_pt_h\n",
      "4 0 DER_deltar_tau_lep\n",
      "5 0 DER_pt_tot\n",
      "6 0 DER_sum_pt\n",
      "7 0 DER_pt_ratio_lep_tau\n",
      "8 0 DER_met_phi_centrality\n",
      "9 0 PRI_tau_pt\n",
      "10 0 PRI_tau_eta\n",
      "11 0 PRI_tau_phi\n",
      "12 0 PRI_lep_pt\n",
      "13 0 PRI_lep_eta\n",
      "14 0 PRI_lep_phi\n",
      "15 0 PRI_met\n",
      "16 0 PRI_met_phi\n",
      "17 0 PRI_met_sumet\n",
      "18 0 PRI_jet_num\n",
      "19 99913 PRI_jet_leading_pt\n",
      "20 99913 PRI_jet_leading_eta\n",
      "21 99913 PRI_jet_leading_phi\n",
      "22 0 PRI_jet_subleading_phi\n"
     ]
    }
   ],
   "source": [
    "#keep all except for those with many missng\n",
    "x_tr_2 = np.array(np.delete(x_tr,(4,5,6,12,26,27,28), axis = 1))\n",
    "train = np.array(train_list)\n",
    "train = np.delete(train, (6,7,8,14,28,29,31), axis= 0)\n",
    "for i in range(x_tr_2.shape[1] ):\n",
    "    print(i, np.count_nonzero(abs(x_tr_2[:,i]) == 999.0), train[i+2,0])\n"
   ]
  },
  {
   "cell_type": "code",
   "execution_count": 11,
   "id": "ff07c5b0",
   "metadata": {},
   "outputs": [
    {
     "data": {
      "text/plain": [
       "array([[ 1.38470e+02,  5.16550e+01,  9.78270e+01, ...,  2.15000e+00,\n",
       "         4.44000e-01,  1.13497e+02],\n",
       "       [ 1.60937e+02,  6.87680e+01,  1.03235e+02, ...,  7.25000e-01,\n",
       "         1.15800e+00,  4.62260e+01],\n",
       "       [ 1.12406e+02,  1.62172e+02,  1.25953e+02, ...,  2.05300e+00,\n",
       "        -2.02800e+00,  4.42510e+01],\n",
       "       ...,\n",
       "       [ 1.05457e+02,  6.05260e+01,  7.58390e+01, ...,  1.80000e+00,\n",
       "        -1.66000e-01,  4.19920e+01],\n",
       "       [ 9.49510e+01,  1.93620e+01,  6.88120e+01, ...,  0.00000e+00,\n",
       "        -3.30000e-02,  0.00000e+00],\n",
       "       [ 1.12406e+02,  7.27560e+01,  7.08310e+01, ...,  0.00000e+00,\n",
       "        -3.30000e-02,  0.00000e+00]])"
      ]
     },
     "execution_count": 11,
     "metadata": {},
     "output_type": "execute_result"
    }
   ],
   "source": [
    "#impute using median\n",
    "x_tr_2[abs(x_tr_2)==999.0] = np.nan\n",
    "ind = np.where(np.isnan(x_tr_2))\n",
    "\n",
    "median = np.nanmedian(x_tr_2, axis=0, out=None, overwrite_input=False)\n",
    "\n",
    "x_tr_2[ind] =  np.take(median, ind[1])\n",
    "\n",
    "x_tr_2.shape\n"
   ]
  },
  {
   "cell_type": "code",
   "execution_count": 10,
   "id": "256d5bf2",
   "metadata": {},
   "outputs": [
    {
     "data": {
      "text/plain": [
       "array([[False, False, False, ..., False, False, False],\n",
       "       [False, False, False, ..., False, False, False],\n",
       "       [False, False, False, ..., False, False, False],\n",
       "       ...,\n",
       "       [False, False, False, ..., False, False, False],\n",
       "       [False, False, False, ..., False, False, False],\n",
       "       [False, False, False, ..., False, False, False]])"
      ]
     },
     "execution_count": 10,
     "metadata": {},
     "output_type": "execute_result"
    }
   ],
   "source": [
    "np.isnan(x_tr_2)"
   ]
  },
  {
   "cell_type": "code",
   "execution_count": 11,
   "id": "a959f8c5",
   "metadata": {},
   "outputs": [],
   "source": [
    "#create x_te_2\n",
    "x_te_2 = np.array(np.delete(x_te,(4,5,6,12,26,27,28), axis = 1))\n"
   ]
  },
  {
   "cell_type": "code",
   "execution_count": 12,
   "id": "3823de23",
   "metadata": {},
   "outputs": [],
   "source": [
    "## export the dataset:\n",
    "np.savetxt(\"x_tr_2.csv\", x_tr_2, fmt=\"%s\", delimiter=\",\")\n",
    "np.savetxt(\"x_te_2.csv\", x_te_2, fmt=\"%s\", delimiter=\",\")"
   ]
  },
  {
   "cell_type": "code",
   "execution_count": 13,
   "id": "17c2b44e",
   "metadata": {},
   "outputs": [
    {
     "name": "stdout",
     "output_type": "stream",
     "text": [
      "0 0 DER_mass_MMC\n",
      "1 0 DER_mass_transverse_met_lep\n",
      "2 0 DER_mass_vis\n",
      "3 0 DER_pt_h\n",
      "4 0 DER_deltar_tau_lep\n",
      "5 0 DER_pt_tot\n",
      "6 0 DER_sum_pt\n",
      "7 0 DER_pt_ratio_lep_tau\n",
      "8 0 DER_met_phi_centrality\n"
     ]
    }
   ],
   "source": [
    "# let's remove the primitive variables:\n",
    "x_tr_3 = x_tr_2[:,:9]\n",
    "x_tr_3.shape\n",
    "for i in range(x_tr_3.shape[1] ):\n",
    "    print(i, np.count_nonzero(abs(x_tr_3[:,i]) == 999.0), train[i+2,0])\n"
   ]
  },
  {
   "cell_type": "code",
   "execution_count": 31,
   "id": "ee5632e8",
   "metadata": {},
   "outputs": [],
   "source": [
    "# now impute outliers\n",
    "\n",
    "def impute_outliers_mean(a):\n",
    "    '''impute outliers with mean'''\n",
    "    # 1. Determine mean and standard deviation\n",
    "    mean = np.mean(a, axis = 0)\n",
    "    std_dev = np.std(a, axis = 0)\n",
    "    # 2. Normalize array around 0\n",
    "    zero_based = abs(a - mean)\n",
    "    # 3. Define maximum number of standard deviations\n",
    "    max_deviations = 2\n",
    "    # 4. Access only non-outliers using Boolean Indexing\n",
    "    num_out = 0\n",
    "    for i in range(a.shape[1]):\n",
    "        for j in range(a.shape[0]):\n",
    "            if zero_based[j,i] > max_deviations * std_dev[i]:\n",
    "                a[j,i] = mean[i]\n",
    "                num_out += 1\n",
    "    print(num_out, \"observations have been replaced by the corresponding mean\")\n",
    "    \n",
    "    return a\n",
    "\n",
    "#x_tr_3_no_out = impute_outliers_mean(x_tr_3)\n",
    "\n"
   ]
  },
  {
   "cell_type": "code",
   "execution_count": 19,
   "id": "93eaeefa",
   "metadata": {},
   "outputs": [],
   "source": [
    "x_te_3 = x_te_2[:,:9] "
   ]
  },
  {
   "cell_type": "code",
   "execution_count": 20,
   "id": "970264fa",
   "metadata": {},
   "outputs": [],
   "source": [
    "## export the dataset:\n",
    "np.savetxt(\"x_tr_3_no_out.csv\", x_tr_3_no_out, fmt=\"%s\", delimiter=\",\")\n",
    "np.savetxt(\"x_te_3_no_out.csv\", x_te_3, fmt=\"%s\", delimiter=\",\")"
   ]
  },
  {
   "cell_type": "code",
   "execution_count": 33,
   "id": "9dcc6e79",
   "metadata": {},
   "outputs": [],
   "source": [
    "x_tr_4 = np.array(np.delete(x_tr,(0,5,6,9,21,23,29), axis = 1))\n",
    "x_te_4 = np.array(np.delete(x_te,(0,5,6,9,21,23,29), axis = 1))\n",
    "train = np.array(train_list)\n",
    "train = np.delete(train, (2,7,8,11,23,25,31), axis = 0)"
   ]
  },
  {
   "cell_type": "code",
   "execution_count": 34,
   "id": "412db103",
   "metadata": {},
   "outputs": [
    {
     "name": "stdout",
     "output_type": "stream",
     "text": [
      "0 38114 DER_mass_transverse_met_lep\n",
      "1 0 DER_mass_vis\n",
      "2 0 DER_pt_h\n",
      "3 0 DER_deltaeta_jet_jet\n",
      "4 177457 DER_deltar_tau_lep\n",
      "5 177457 DER_pt_tot\n",
      "6 177457 DER_pt_ratio_lep_tau\n",
      "7 0 DER_met_phi_centrality\n",
      "8 0 DER_lep_eta_centrality\n",
      "9 0 PRI_tau_pt\n",
      "10 0 PRI_tau_eta\n",
      "11 0 PRI_tau_phi\n",
      "12 177457 PRI_lep_pt\n",
      "13 0 PRI_lep_eta\n",
      "14 0 PRI_lep_phi\n",
      "15 0 PRI_met\n",
      "16 0 PRI_met_phi\n",
      "17 0 PRI_jet_num\n",
      "18 0 PRI_jet_leading_eta\n",
      "19 0 PRI_jet_leading_phi\n",
      "20 0 PRI_jet_subleading_pt\n",
      "21 0 PRI_jet_subleading_eta\n",
      "22 0 PRI_jet_subleading_phi\n"
     ]
    }
   ],
   "source": [
    "for i in range(x_tr_4.shape[1] ):\n",
    "    print(i, np.count_nonzero(abs(x_tr[:,i]) == 999.0), train[i+2, 0])\n"
   ]
  },
  {
   "cell_type": "code",
   "execution_count": 35,
   "id": "ba8a68be",
   "metadata": {},
   "outputs": [
    {
     "data": {
      "text/plain": [
       "array([[ 5.16550e+01,  9.78270e+01,  2.79800e+01, ...,  4.60620e+01,\n",
       "         1.24000e+00, -2.47500e+00],\n",
       "       [ 6.87680e+01,  1.03235e+02,  4.81460e+01, ...,  4.79020e+01,\n",
       "        -1.00000e-02, -2.00000e-03],\n",
       "       [ 1.62172e+02,  1.25953e+02,  3.56350e+01, ...,  4.79020e+01,\n",
       "        -1.00000e-02, -2.00000e-03],\n",
       "       ...,\n",
       "       [ 6.05260e+01,  7.58390e+01,  3.97570e+01, ...,  4.79020e+01,\n",
       "        -1.00000e-02, -2.00000e-03],\n",
       "       [ 1.93620e+01,  6.88120e+01,  1.35040e+01, ...,  4.79020e+01,\n",
       "        -1.00000e-02, -2.00000e-03],\n",
       "       [ 7.27560e+01,  7.08310e+01,  7.47900e+00, ...,  4.79020e+01,\n",
       "        -1.00000e-02, -2.00000e-03]])"
      ]
     },
     "execution_count": 35,
     "metadata": {},
     "output_type": "execute_result"
    }
   ],
   "source": [
    "#impute nan using median\n",
    "x_tr_4[abs(x_tr_4)==999.0] = np.nan\n",
    "ind = np.where(np.isnan(x_tr_4))\n",
    "\n",
    "median = np.nanmedian(x_tr_4, axis=0, out=None, overwrite_input=False)\n",
    "\n",
    "x_tr_4[ind] =  np.take(median, ind[1])\n",
    "\n",
    "x_tr_4"
   ]
  },
  {
   "cell_type": "code",
   "execution_count": 36,
   "id": "ed860752",
   "metadata": {},
   "outputs": [
    {
     "name": "stdout",
     "output_type": "stream",
     "text": [
      "266964 observations have been replaced by the corresponding mean\n"
     ]
    }
   ],
   "source": [
    "x_tr_4_no_out = impute_outliers_mean(x_tr_4)"
   ]
  },
  {
   "cell_type": "code",
   "execution_count": 37,
   "id": "df58b4b1",
   "metadata": {},
   "outputs": [],
   "source": [
    "np.savetxt(\"x_tr_4_no_out.csv\", x_tr_4_no_out, fmt=\"%s\", delimiter=\",\")\n",
    "np.savetxt(\"x_te_4_no_out.csv\", x_te_4, fmt=\"%s\", delimiter=\",\")"
   ]
  }
 ],
 "metadata": {
  "kernelspec": {
   "display_name": "Python 3 (ipykernel)",
   "language": "python",
   "name": "python3"
  },
  "language_info": {
   "codemirror_mode": {
    "name": "ipython",
    "version": 3
   },
   "file_extension": ".py",
   "mimetype": "text/x-python",
   "name": "python",
   "nbconvert_exporter": "python",
   "pygments_lexer": "ipython3",
   "version": "3.9.12"
  }
 },
 "nbformat": 4,
 "nbformat_minor": 5
}
