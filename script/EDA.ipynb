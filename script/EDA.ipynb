{
 "cells": [
  {
   "cell_type": "code",
   "execution_count": 3,
   "id": "e0291981",
   "metadata": {},
   "outputs": [],
   "source": [
    "%matplotlib inline\n",
    "import numpy as np\n",
    "import matplotlib.pyplot as plt\n",
    "import datetime\n",
    "from helpfulfun import *\n",
    "%load_ext autoreload\n",
    "%autoreload 2\n"
   ]
  },
  {
   "cell_type": "code",
   "execution_count": 4,
   "id": "086a1945",
   "metadata": {},
   "outputs": [
    {
     "data": {
      "text/plain": [
       "((250000, 30), (250000,), (568238, 30))"
      ]
     },
     "execution_count": 4,
     "metadata": {},
     "output_type": "execute_result"
    }
   ],
   "source": [
    "#load data\n",
    "import csv\n",
    "def readCSVToNumpyArray(dataset):\n",
    "    values = [[]]\n",
    "    with open(dataset) as f:\n",
    "        counter = 0\n",
    "        for i in csv.reader(f):\n",
    "            for j in i:\n",
    "                try:\n",
    "                    values[counter].append(float(j))\n",
    "                except ValueError:\n",
    "                    values[counter].append(j)\n",
    "            counter = counter + 1\n",
    "            values.append([])\n",
    "\n",
    "    data = np.array(values[:-1],dtype='object')\n",
    "\n",
    "    return data\n",
    "\n",
    "train = readCSVToNumpyArray('train.csv')[0:,]\n",
    "test = readCSVToNumpyArray('test.csv')[0:,]\n",
    "x_tr = train[1:,2:]\n",
    "y_tr = train[1:,1]\n",
    "x_te = test[1:,2:]\n",
    "\n",
    "train[1:,1] = [int(x) for x in train[1:,0]]\n",
    "test[1:,1] = [int(x) for x in test[1:,0]]\n",
    "\n",
    "x_tr.shape, y_tr.shape, x_te.shape"
   ]
  },
  {
   "cell_type": "code",
   "execution_count": 5,
   "id": "796127f2",
   "metadata": {},
   "outputs": [
    {
     "name": "stdout",
     "output_type": "stream",
     "text": [
      "(250000,)  and y[:5]:  [0 0 0 0 0]\n"
     ]
    },
    {
     "data": {
      "text/plain": [
       "array(['Id', 'Prediction', 'DER_mass_MMC', 'DER_mass_transverse_met_lep',\n",
       "       'DER_mass_vis', 'DER_pt_h', 'DER_deltaeta_jet_jet',\n",
       "       'DER_mass_jet_jet', 'DER_prodeta_jet_jet', 'DER_deltar_tau_lep',\n",
       "       'DER_pt_tot', 'DER_sum_pt', 'DER_pt_ratio_lep_tau',\n",
       "       'DER_met_phi_centrality', 'DER_lep_eta_centrality', 'PRI_tau_pt',\n",
       "       'PRI_tau_eta', 'PRI_tau_phi', 'PRI_lep_pt', 'PRI_lep_eta',\n",
       "       'PRI_lep_phi', 'PRI_met', 'PRI_met_phi', 'PRI_met_sumet',\n",
       "       'PRI_jet_num', 'PRI_jet_leading_pt', 'PRI_jet_leading_eta',\n",
       "       'PRI_jet_leading_phi', 'PRI_jet_subleading_pt',\n",
       "       'PRI_jet_subleading_eta', 'PRI_jet_subleading_phi',\n",
       "       'PRI_jet_all_pt'], dtype=object)"
      ]
     },
     "execution_count": 5,
     "metadata": {},
     "output_type": "execute_result"
    }
   ],
   "source": [
    "y_tr = np.where(y_tr == \"s\",1,0)\n",
    "print(y_tr.shape, \" and y[:5]: \", y_tr[:5])\n",
    "train[0,:]"
   ]
  },
  {
   "cell_type": "code",
   "execution_count": 6,
   "id": "58884f87",
   "metadata": {},
   "outputs": [
    {
     "name": "stdout",
     "output_type": "stream",
     "text": [
      "0 38114 DER_mass_MMC\n",
      "1 0 DER_mass_transverse_met_lep\n",
      "2 0 DER_mass_vis\n",
      "3 0 DER_pt_h\n",
      "4 177457 DER_deltaeta_jet_jet\n",
      "5 177457 DER_mass_jet_jet\n",
      "6 177457 DER_prodeta_jet_jet\n",
      "7 0 DER_deltar_tau_lep\n",
      "8 0 DER_pt_tot\n",
      "9 0 DER_sum_pt\n",
      "10 0 DER_pt_ratio_lep_tau\n",
      "11 0 DER_met_phi_centrality\n",
      "12 177457 DER_lep_eta_centrality\n",
      "13 0 PRI_tau_pt\n",
      "14 0 PRI_tau_eta\n",
      "15 0 PRI_tau_phi\n",
      "16 0 PRI_lep_pt\n",
      "17 0 PRI_lep_eta\n",
      "18 0 PRI_lep_phi\n",
      "19 0 PRI_met\n",
      "20 0 PRI_met_phi\n",
      "21 0 PRI_met_sumet\n",
      "22 0 PRI_jet_num\n",
      "23 99913 PRI_jet_leading_pt\n",
      "24 99913 PRI_jet_leading_eta\n",
      "25 99913 PRI_jet_leading_phi\n",
      "26 177457 PRI_jet_subleading_pt\n",
      "27 177457 PRI_jet_subleading_eta\n",
      "28 177457 PRI_jet_subleading_phi\n",
      "29 0 PRI_jet_all_pt\n"
     ]
    }
   ],
   "source": [
    "for i in range(x_tr.shape[1] ):\n",
    "    print(i, np.count_nonzero(abs(x_tr[:,i]) == 999.0), train[0,i+2])\n"
   ]
  },
  {
   "cell_type": "code",
   "execution_count": 7,
   "id": "9700fbaa",
   "metadata": {},
   "outputs": [
    {
     "name": "stdout",
     "output_type": "stream",
     "text": [
      "0 38114 DER_mass_MMC\n",
      "1 0 DER_mass_transverse_met_lep\n",
      "2 0 DER_mass_vis\n",
      "3 0 DER_pt_h\n",
      "4 0 DER_deltaeta_jet_jet\n",
      "5 0 DER_mass_jet_jet\n",
      "6 0 DER_prodeta_jet_jet\n",
      "7 0 DER_deltar_tau_lep\n",
      "8 0 DER_pt_tot\n",
      "9 0 DER_sum_pt\n",
      "10 0 DER_pt_ratio_lep_tau\n",
      "11 0 DER_met_phi_centrality\n",
      "12 0 DER_lep_eta_centrality\n",
      "13 0 PRI_tau_pt\n",
      "14 0 PRI_tau_eta\n",
      "15 0 PRI_tau_phi\n",
      "16 0 PRI_lep_pt\n",
      "17 0 PRI_lep_eta\n",
      "18 0 PRI_lep_phi\n",
      "19 99913 PRI_met\n",
      "20 99913 PRI_met_phi\n",
      "21 99913 PRI_met_sumet\n",
      "22 0 PRI_jet_num\n"
     ]
    }
   ],
   "source": [
    "#keep all except for those with many missng\n",
    "x_tr_2 = np.delete(x_tr,(4,5,6,12,26,27,28), axis = 1)\n",
    "for i in range(x_tr_2.shape[1] ):\n",
    "    print(i, np.count_nonzero(abs(x_tr_2[:,i]) == 999.0), train[0,i+2])\n"
   ]
  },
  {
   "cell_type": "code",
   "execution_count": 8,
   "id": "ff07c5b0",
   "metadata": {},
   "outputs": [
    {
     "name": "stdout",
     "output_type": "stream",
     "text": [
      "0 0 DER_mass_MMC\n",
      "1 0 DER_mass_transverse_met_lep\n",
      "2 0 DER_mass_vis\n",
      "3 0 DER_pt_h\n",
      "4 0 DER_deltaeta_jet_jet\n",
      "5 0 DER_mass_jet_jet\n",
      "6 0 DER_prodeta_jet_jet\n",
      "7 0 DER_deltar_tau_lep\n",
      "8 0 DER_pt_tot\n",
      "9 0 DER_sum_pt\n",
      "10 0 DER_pt_ratio_lep_tau\n",
      "11 0 DER_met_phi_centrality\n",
      "12 0 DER_lep_eta_centrality\n",
      "13 0 PRI_tau_pt\n",
      "14 0 PRI_tau_eta\n",
      "15 0 PRI_tau_phi\n",
      "16 0 PRI_lep_pt\n",
      "17 0 PRI_lep_eta\n",
      "18 0 PRI_lep_phi\n",
      "19 0 PRI_met\n",
      "20 0 PRI_met_phi\n",
      "21 0 PRI_met_sumet\n",
      "22 0 PRI_jet_num\n"
     ]
    }
   ],
   "source": [
    "#impute using mean\n",
    "inds = np.where(x_tr_2 == 999.0)\n",
    "x_tr_2[abs(x_tr_2) == 999.0] = np.nan\n",
    "col_mean = np.nanmean(x_tr_2, axis=0)\n",
    "x_tr_2[inds] = np.take(col_mean, inds[1])\n",
    "for i in range(x_tr_2.shape[1] ):\n",
    "    print(i, np.count_nonzero(abs(x_tr_2[:,i]) == 999.0), train[0,i+2])"
   ]
  },
  {
   "cell_type": "code",
   "execution_count": 12,
   "id": "c7766599",
   "metadata": {},
   "outputs": [],
   "source": [
    "#export the dataset:\n",
    "np.savetxt(\"x_tr_2.csv\", x_tr_2, fmt=\"%s\", delimiter=\",\")"
   ]
  },
  {
   "cell_type": "code",
   "execution_count": 13,
   "id": "eb4d990f",
   "metadata": {},
   "outputs": [
    {
     "ename": "NameError",
     "evalue": "name 'train_df' is not defined",
     "output_type": "error",
     "traceback": [
      "\u001b[0;31m---------------------------------------------------------------------------\u001b[0m",
      "\u001b[0;31mNameError\u001b[0m                                 Traceback (most recent call last)",
      "Input \u001b[0;32mIn [13]\u001b[0m, in \u001b[0;36m<cell line: 2>\u001b[0;34m()\u001b[0m\n\u001b[1;32m      1\u001b[0m \u001b[38;5;66;03m# r\u001b[39;00m\n\u001b[0;32m----> 2\u001b[0m train_x_nomiss \u001b[38;5;241m=\u001b[39m \u001b[43mtrain_df\u001b[49m\u001b[38;5;241m.\u001b[39mdrop([\u001b[38;5;124m\"\u001b[39m\u001b[38;5;124mPrediction\u001b[39m\u001b[38;5;124m\"\u001b[39m, \u001b[38;5;124m\"\u001b[39m\u001b[38;5;124mDER_mass_MMC\u001b[39m\u001b[38;5;124m\"\u001b[39m, \u001b[38;5;124m\"\u001b[39m\u001b[38;5;124mDER_deltaeta_jet_jet\u001b[39m\u001b[38;5;124m\"\u001b[39m,\n\u001b[1;32m      3\u001b[0m                                    \u001b[38;5;124m\"\u001b[39m\u001b[38;5;124mDER_mass_jet_jet\u001b[39m\u001b[38;5;124m\"\u001b[39m, \u001b[38;5;124m\"\u001b[39m\u001b[38;5;124mDER_prodeta_jet_jet\u001b[39m\u001b[38;5;124m\"\u001b[39m, \u001b[38;5;124m\"\u001b[39m\u001b[38;5;124mDER_lep_eta_centrality\u001b[39m\u001b[38;5;124m\"\u001b[39m, \n\u001b[1;32m      4\u001b[0m                                    \u001b[38;5;124m\"\u001b[39m\u001b[38;5;124mPRI_jet_leading_pt\u001b[39m\u001b[38;5;124m\"\u001b[39m, \u001b[38;5;124m\"\u001b[39m\u001b[38;5;124mPRI_jet_leading_eta\u001b[39m\u001b[38;5;124m\"\u001b[39m, \u001b[38;5;124m\"\u001b[39m\u001b[38;5;124mPRI_jet_leading_phi\u001b[39m\u001b[38;5;124m\"\u001b[39m,\n\u001b[1;32m      5\u001b[0m                                    \u001b[38;5;124m\"\u001b[39m\u001b[38;5;124mPRI_jet_subleading_pt\u001b[39m\u001b[38;5;124m\"\u001b[39m, \u001b[38;5;124m\"\u001b[39m\u001b[38;5;124mPRI_jet_subleading_eta\u001b[39m\u001b[38;5;124m\"\u001b[39m, \u001b[38;5;124m\"\u001b[39m\u001b[38;5;124mPRI_jet_subleading_phi\u001b[39m\u001b[38;5;124m\"\u001b[39m], \n\u001b[1;32m      6\u001b[0m                                axis\u001b[38;5;241m=\u001b[39m\u001b[38;5;241m1\u001b[39m)\n\u001b[1;32m      7\u001b[0m x_nomiss \u001b[38;5;241m=\u001b[39m train_x_nomiss\u001b[38;5;241m.\u001b[39mto_numpy()\n\u001b[1;32m      9\u001b[0m x_nomiss\u001b[38;5;241m.\u001b[39mshape\n",
      "\u001b[0;31mNameError\u001b[0m: name 'train_df' is not defined"
     ]
    }
   ],
   "source": [
    "# r\n",
    "train_x_nomiss = train_df.drop([\"Prediction\", \"DER_mass_MMC\", \"DER_deltaeta_jet_jet\",\n",
    "                                   \"DER_mass_jet_jet\", \"DER_prodeta_jet_jet\", \"DER_lep_eta_centrality\", \n",
    "                                   \"PRI_jet_leading_pt\", \"PRI_jet_leading_eta\", \"PRI_jet_leading_phi\",\n",
    "                                   \"PRI_jet_subleading_pt\", \"PRI_jet_subleading_eta\", \"PRI_jet_subleading_phi\"], \n",
    "                               axis=1)\n",
    "x_nomiss = train_x_nomiss.to_numpy()\n",
    "\n",
    "x_nomiss.shape"
   ]
  },
  {
   "cell_type": "code",
   "execution_count": 12,
   "id": "97341dba",
   "metadata": {},
   "outputs": [
    {
     "data": {
      "text/plain": [
       "(250000, 8)"
      ]
     },
     "execution_count": 12,
     "metadata": {},
     "output_type": "execute_result"
    }
   ],
   "source": [
    "x_der_nomiss = x_nomiss[:, :8]\n",
    "np.savetxt(\"x_der_nomiss.csv\", x_der_nomiss, delimiter = \",\")\n",
    "x_der_nomiss.shape"
   ]
  },
  {
   "cell_type": "code",
   "execution_count": 13,
   "id": "ea1d769a",
   "metadata": {},
   "outputs": [],
   "source": [
    "# Omitting missings implicitly assumes that measurements are independent of missingness \n",
    "# (or results can only be generalised to population that’d be non-missing if asked).\n",
    "# Standard assumption: Missing completely at random (MCAR) Whether an observation is\n",
    "# missing is independent of its value.\n",
    "# Otherwise: Missing at random (MAR) Whether an observation is missing only\n",
    "# depends on observed values, not on the missing ones.\n",
    "# Example: More people can be expected positive for a virus out of those tested, \n",
    "# because more people who are tested have symptoms, but testing may be independent of positivity\n",
    "# conditionally on symptoms.\n",
    "# Missing not at random (MNAR) Missingness can depend on the\n",
    "# missing value, i.e., distribution of true values is genuinely\n",
    "# different between missings and non-missings.\n",
    "\n",
    "# Problems:\n",
    "# Based on data alone cannot tell apart MCAR, MAR and MNAR, because would need to know true values of missings.\n",
    "# Chances are MNAR holds in most real situations, but statistics can normally only do something about MCAR and MAR\n",
    "\n",
    "# Always ask: What do we know about reasons for missingness in the specific situation? This can often have an \n",
    "# impact on analysis.\n",
    "\n",
    "# Methods to deal with missing values:\n",
    "#1. Removing variables if they have many missings and appear unreliable.\n",
    "#2. Treat “missing” as another category for categorical variables; good if it really can mean something else\n",
    "#3. Imputation: Replace missing values by “plausible” values.\n",
    "\n",
    "# Different types of imputation:\n",
    "# Mean imputation: \n",
    "# replace missoing by mean of non-missing on same variable\n",
    "# Advantage: no influence on mean coimputation.\n",
    "# Disadvantages: will underestimate variance, can destroy multivariate dependence patterns\n",
    "\n",
    "#Similar to median imputation and mode imputation. Use mean when data distribution is symmetric. If skewed prefer median. \n",
    "\n",
    "#Regression imputation:\n",
    "#estimate missing value by regression on non-missing variables. Could \n",
    "# use variables that have missing values themselves, but then need to decide what to do with missing there.\n",
    "# Advantage: effective use of non-missing info (MAR)\n",
    "# Issues: Regression model appropriate?\n",
    "\n",
    "#knn imputation\n",
    "#impute missin values by average or median or mode value of k (eg k=3) nearest neighbours on non-missing \n",
    "# variables according to distance measure (eg euclidean)\n",
    "#Advantage: effective use of non-missing info (mar), doesn't need parametric assumptions such as linearity\n",
    "\n",
    "\n",
    "#Multiple imputation:\n",
    "# produce several datasets with diferent random imputations of missings.\n",
    "# can run analyses on all of them, compare and analyse variation, and run pooled aggregate analysis,\n",
    "# taking into account variation from imputation.\n",
    "# Popular one: MICE"
   ]
  },
  {
   "cell_type": "code",
   "execution_count": null,
   "id": "4e759ccb",
   "metadata": {},
   "outputs": [],
   "source": [
    "# dataset without col with #missing >30%  and inferring the others"
   ]
  },
  {
   "cell_type": "code",
   "execution_count": 14,
   "id": "174a69f8",
   "metadata": {},
   "outputs": [
    {
     "data": {
      "text/plain": [
       "(250000, 20)"
      ]
     },
     "execution_count": 14,
     "metadata": {},
     "output_type": "execute_result"
    }
   ],
   "source": [
    "train_x_nomiss30 = train_df.drop([\"Prediction\", \"DER_deltaeta_jet_jet\",\n",
    "                                   \"DER_mass_jet_jet\", \"DER_prodeta_jet_jet\", \"DER_lep_eta_centrality\", \n",
    "                                   \"PRI_jet_leading_pt\", \"PRI_jet_leading_eta\", \"PRI_jet_leading_phi\",\n",
    "                                   \"PRI_jet_subleading_pt\", \"PRI_jet_subleading_eta\", \"PRI_jet_subleading_phi\"], \n",
    "                               axis=1)\n",
    "x_nomiss30 = train_x_nomiss30.to_numpy()\n",
    "x_nomiss30.shape\n",
    "# we need to infer DER_mass_MMC"
   ]
  },
  {
   "cell_type": "code",
   "execution_count": 15,
   "id": "c9f7f8fe",
   "metadata": {},
   "outputs": [
    {
     "data": {
      "text/plain": [
       "DER_mass_MMC                   38114\n",
       "DER_mass_transverse_met_lep        0\n",
       "DER_mass_vis                       0\n",
       "DER_pt_h                           0\n",
       "DER_deltar_tau_lep                 0\n",
       "DER_pt_tot                         0\n",
       "DER_sum_pt                         0\n",
       "DER_pt_ratio_lep_tau               0\n",
       "DER_met_phi_centrality             0\n",
       "PRI_tau_pt                         0\n",
       "PRI_tau_eta                        0\n",
       "PRI_tau_phi                        0\n",
       "PRI_lep_pt                         0\n",
       "PRI_lep_eta                        0\n",
       "PRI_lep_phi                        0\n",
       "PRI_met                            0\n",
       "PRI_met_phi                        0\n",
       "PRI_met_sumet                      0\n",
       "PRI_jet_num                        0\n",
       "PRI_jet_all_pt                     0\n",
       "dtype: int64"
      ]
     },
     "execution_count": 15,
     "metadata": {},
     "output_type": "execute_result"
    }
   ],
   "source": [
    "train_x_nomiss30.isnull().sum()"
   ]
  },
  {
   "cell_type": "code",
   "execution_count": 16,
   "id": "18e4b15e",
   "metadata": {},
   "outputs": [],
   "source": [
    "## Let's find the best measure of the central tendency of data "
   ]
  },
  {
   "cell_type": "code",
   "execution_count": 17,
   "id": "a6965df3",
   "metadata": {},
   "outputs": [
    {
     "name": "stderr",
     "output_type": "stream",
     "text": [
      "/Users/ernestobocini/opt/anaconda3/lib/python3.9/site-packages/seaborn/_decorators.py:36: FutureWarning: Pass the following variable as a keyword arg: x. From version 0.12, the only valid positional argument will be `data`, and passing other arguments without an explicit keyword will result in an error or misinterpretation.\n",
      "  warnings.warn(\n"
     ]
    },
    {
     "data": {
      "text/plain": [
       "<AxesSubplot:xlabel='DER_mass_MMC'>"
      ]
     },
     "execution_count": 17,
     "metadata": {},
     "output_type": "execute_result"
    },
    {
     "data": {
      "image/png": "[encoded data removed]",
      "text/plain": [
       "<Figure size 432x288 with 1 Axes>"
      ]
     },
     "metadata": {
      "needs_background": "light"
     },
     "output_type": "display_data"
    }
   ],
   "source": [
    "sns.boxplot(train_x_nomiss30.DER_mass_MMC)"
   ]
  },
  {
   "cell_type": "code",
   "execution_count": 18,
   "id": "62faeabf",
   "metadata": {},
   "outputs": [
    {
     "name": "stderr",
     "output_type": "stream",
     "text": [
      "/Users/ernestobocini/opt/anaconda3/lib/python3.9/site-packages/seaborn/distributions.py:2619: FutureWarning: `distplot` is a deprecated function and will be removed in a future version. Please adapt your code to use either `displot` (a figure-level function with similar flexibility) or `histplot` (an axes-level function for histograms).\n",
      "  warnings.warn(msg, FutureWarning)\n"
     ]
    },
    {
     "data": {
      "text/plain": [
       "<AxesSubplot:xlabel='DER_mass_MMC', ylabel='Density'>"
      ]
     },
     "execution_count": 18,
     "metadata": {},
     "output_type": "execute_result"
    },
    {
     "data": {
      "image/png": "[encoded data removed]",
      "text/plain": [
       "<Figure size 432x288 with 1 Axes>"
      ]
     },
     "metadata": {
      "needs_background": "light"
     },
     "output_type": "display_data"
    }
   ],
   "source": [
    "sns.distplot(train_x_nomiss30.DER_mass_MMC)"
   ]
  },
  {
   "cell_type": "code",
   "execution_count": 19,
   "id": "6d87c51e",
   "metadata": {},
   "outputs": [],
   "source": [
    "#Here is what the box plot would look like. You may note that the data is skewed. There are several or large numbers \n",
    "#of data points that act as outliers. Outliers data points will have a significant impact on the mean and hence, \n",
    "#in such cases, it is not recommended to use the mean for replacing the missing values. Using mean values for \n",
    "#replacing missing values may not create a great model and hence gets ruled out. For symmetric data distribution, \n",
    "#one can use the mean value for imputing missing values.\n",
    "#Let's use median!"
   ]
  },
  {
   "cell_type": "code",
   "execution_count": 20,
   "id": "987759ac",
   "metadata": {},
   "outputs": [
    {
     "data": {
      "text/plain": [
       "DER_mass_MMC                   0\n",
       "DER_mass_transverse_met_lep    0\n",
       "DER_mass_vis                   0\n",
       "DER_pt_h                       0\n",
       "DER_deltar_tau_lep             0\n",
       "DER_pt_tot                     0\n",
       "DER_sum_pt                     0\n",
       "DER_pt_ratio_lep_tau           0\n",
       "DER_met_phi_centrality         0\n",
       "PRI_tau_pt                     0\n",
       "PRI_tau_eta                    0\n",
       "PRI_tau_phi                    0\n",
       "PRI_lep_pt                     0\n",
       "PRI_lep_eta                    0\n",
       "PRI_lep_phi                    0\n",
       "PRI_met                        0\n",
       "PRI_met_phi                    0\n",
       "PRI_met_sumet                  0\n",
       "PRI_jet_num                    0\n",
       "PRI_jet_all_pt                 0\n",
       "dtype: int64"
      ]
     },
     "execution_count": 20,
     "metadata": {},
     "output_type": "execute_result"
    }
   ],
   "source": [
    "train_x_nomiss30_median = train_x_nomiss30.fillna(train_x_nomiss30.median())\n",
    "train_x_nomiss30_median.isnull().sum()"
   ]
  },
  {
   "cell_type": "code",
   "execution_count": 21,
   "id": "f5b1ada9",
   "metadata": {},
   "outputs": [
    {
     "data": {
      "text/plain": [
       "(250000, 20)"
      ]
     },
     "execution_count": 21,
     "metadata": {},
     "output_type": "execute_result"
    }
   ],
   "source": [
    "x_nomiss30_median = train_x_nomiss30_median.to_numpy()\n",
    "x_nomiss30_median.shape"
   ]
  },
  {
   "cell_type": "code",
   "execution_count": 22,
   "id": "1c5481c6",
   "metadata": {},
   "outputs": [],
   "source": [
    "# same but without pri data:"
   ]
  },
  {
   "cell_type": "code",
   "execution_count": 23,
   "id": "d5cab566",
   "metadata": {},
   "outputs": [
    {
     "data": {
      "text/plain": [
       "(250000, 9)"
      ]
     },
     "execution_count": 23,
     "metadata": {},
     "output_type": "execute_result"
    }
   ],
   "source": [
    "x_dre_nomiss30_median = x_nomiss30_median[:,:9]\n",
    "x_dre_nomiss30_median.shape"
   ]
  },
  {
   "cell_type": "code",
   "execution_count": 24,
   "id": "8e911c19",
   "metadata": {},
   "outputs": [],
   "source": [
    "# Imputation usin KNN:"
   ]
  },
  {
   "cell_type": "code",
   "execution_count": 25,
   "id": "63cf9c19",
   "metadata": {},
   "outputs": [],
   "source": [
    "from sklearn.impute import KNNImputer"
   ]
  },
  {
   "cell_type": "code",
   "execution_count": 26,
   "id": "8f27d544",
   "metadata": {},
   "outputs": [],
   "source": [
    "knnimp = KNNImputer(n_neighbors= 3)"
   ]
  },
  {
   "cell_type": "code",
   "execution_count": null,
   "id": "368a02d7",
   "metadata": {},
   "outputs": [],
   "source": [
    "knnimp.fit_transform(x_nomiss30[:,:9])"
   ]
  },
  {
   "cell_type": "code",
   "execution_count": null,
   "id": "17c2b44e",
   "metadata": {},
   "outputs": [],
   "source": []
  }
 ],
 "metadata": {
  "kernelspec": {
   "display_name": "Python 3 (ipykernel)",
   "language": "python",
   "name": "python3"
  },
  "language_info": {
   "codemirror_mode": {
    "name": "ipython",
    "version": 3
   },
   "file_extension": ".py",
   "mimetype": "text/x-python",
   "name": "python",
   "nbconvert_exporter": "python",
   "pygments_lexer": "ipython3",
   "version": "3.9.12"
  }
 },
 "nbformat": 4,
 "nbformat_minor": 5
}
