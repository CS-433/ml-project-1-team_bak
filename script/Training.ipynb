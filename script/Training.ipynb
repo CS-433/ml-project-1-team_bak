{
 "cells": [
  {
   "cell_type": "markdown",
   "id": "2e616efb",
   "metadata": {},
   "source": [
    "# Project 1 - Team BAK"
   ]
  },
  {
   "cell_type": "markdown",
   "id": "c5c038e6",
   "metadata": {},
   "source": [
    "## Step 1 - Load and Preprocess Data"
   ]
  },
  {
   "cell_type": "code",
   "execution_count": 2,
   "id": "ceffe021",
   "metadata": {},
   "outputs": [],
   "source": [
    "#Import some libraries\n",
    "%matplotlib inline\n",
    "import numpy as np\n",
    "import matplotlib.pyplot as plt\n",
    "import datetime\n",
    "%load_ext autoreload\n",
    "%autoreload 2\n",
    "\n",
    "from pre_process import *\n",
    "from cross_validation import *\n",
    "from implementations import *"
   ]
  },
  {
   "cell_type": "code",
   "execution_count": 3,
   "id": "c4c33a25",
   "metadata": {},
   "outputs": [],
   "source": [
    "#Load the data\n",
    "y, x, ids = load_csv_data('../data/train.csv')\n",
    "_, x_test, ids_test = load_csv_data('../data/test.csv')\n",
    "x_train, x_test = pre_process_data(x, x_test)"
   ]
  },
  {
   "cell_type": "code",
   "execution_count": 4,
   "id": "bd9ae6c1",
   "metadata": {},
   "outputs": [
    {
     "data": {
      "text/plain": [
       "((250000,), (250000, 24), (250000,), (568238, 24), (568238,))"
      ]
     },
     "execution_count": 4,
     "metadata": {},
     "output_type": "execute_result"
    }
   ],
   "source": [
    "y.shape, x_train.shape, ids.shape, x_test.shape, ids_test.shape"
   ]
  },
  {
   "cell_type": "markdown",
   "id": "2db4053b",
   "metadata": {},
   "source": [
    "### HYPERPARAMETER SELECTION"
   ]
  },
  {
   "cell_type": "code",
   "execution_count": 4,
   "id": "6a6fb6bc",
   "metadata": {},
   "outputs": [],
   "source": [
    "# CONSTANTS\n",
    "SEED = 7\n",
    "K = 3\n",
    "JET_COLUMN = 16\n",
    "\n",
    "# canditates parameters\n",
    "degrees_candidates = [3, 6, 7]\n",
    "alphas_candidates=[3, 4, 7, 9]\n",
    "\n",
    "# SELECT METHOD\n",
    "methods = [mean_squared_error_gd, mean_squared_error_sgd, least_squares, ridge_regression, \n",
    "           logistic_regression_gradient_descent, logistic_regression_regularized_gradient_descent]\n",
    "params_per_method = []"
   ]
  },
  {
   "cell_type": "markdown",
   "id": "193bebe4",
   "metadata": {},
   "source": [
    "Function select_parameters_jet returns the optimal parameter values found for each PRI_jet_num value. If the model does not use the lambda parameter, then it is returned as -1."
   ]
  },
  {
   "cell_type": "code",
   "execution_count": 5,
   "id": "bb4decdc",
   "metadata": {
    "scrolled": false
   },
   "outputs": [
    {
     "name": "stderr",
     "output_type": "stream",
     "text": [
      "/Users/elifkurtay/Documents/ML/ml-project-1-team_bak-main/script/helpers.py:15: RuntimeWarning: invalid value encountered in matmul\n",
      "  e = y - tx@w\n",
      "/Users/elifkurtay/Documents/ML/ml-project-1-team_bak-main/script/implementations.py:26: RuntimeWarning: invalid value encountered in subtract\n",
      "  w = w - gamma * gradient\n"
     ]
    },
    {
     "name": "stdout",
     "output_type": "stream",
     "text": [
      "Optimal alphas per jet_class: [9.0, 7.0, 4.0, 9.0]\n",
      "Optimal degrees per jet_class: [3.0, 3.0, 3.0, 3.0]\n",
      "Optimal lambdas per jet_class: [-1.0, -1.0, -1.0, -1.0]\n",
      "Maximum accuracy predicted per jet_class: [0.8261670269837458, 0.7848060455999174, 0.7882054030449196, 0.7723335138061721]\n"
     ]
    }
   ],
   "source": [
    "# MSE GRADIENT DESCENT\n",
    "method = methods[0]\n",
    "lambdas_candidates = None\n",
    "    \n",
    "opt_degree, opt_lambda, opt_alpha, accuracy = select_parameters_jet(y,x_train, method, degrees_candidates,\n",
    "                                                                  alphas_candidates,K, SEED, lambdas_candidates)\n",
    "print('Optimal alphas per jet_class:',opt_alpha)\n",
    "print('Optimal degrees per jet_class:',opt_degree)\n",
    "print('Optimal lambdas per jet_class:',opt_lambda)\n",
    "print('Maximum accuracy predicted per jet_class:',accuracy)\n",
    "params_per_method.append([opt_alpha, opt_degree, opt_lambda, accuracy])"
   ]
  },
  {
   "cell_type": "code",
   "execution_count": 6,
   "id": "3ab5b6c3",
   "metadata": {
    "scrolled": false
   },
   "outputs": [
    {
     "name": "stderr",
     "output_type": "stream",
     "text": [
      "/Users/elifkurtay/Documents/ML/ml-project-1-team_bak-main/script/implementations.py:54: RuntimeWarning: invalid value encountered in subtract\n",
      "  w = w - gamma * gradient\n"
     ]
    },
    {
     "name": "stdout",
     "output_type": "stream",
     "text": [
      "Optimal alphas per jet_class: [9.0, 7.0, 4.0, 9.0]\n",
      "Optimal degrees per jet_class: [3.0, 3.0, 3.0, 3.0]\n",
      "Optimal lambdas per jet_class: [-1.0, -1.0, -1.0, -1.0]\n",
      "Maximum accuracy predicted per jet_class: [0.8257666746737128, 0.7836841019292273, 0.7884237479902341, 0.7733712326294894]\n"
     ]
    }
   ],
   "source": [
    "# MSE STOCHASTIC GRADIENT DESCENT\n",
    "method = methods[1]\n",
    "lambdas_candidates = None\n",
    "    \n",
    "opt_degree, opt_lambda, opt_alpha, accuracy = select_parameters_jet(y,x_train, method, degrees_candidates,\n",
    "                                                                  alphas_candidates,K, SEED, lambdas_candidates)\n",
    "print('Optimal alphas per jet_class:',opt_alpha)\n",
    "print('Optimal degrees per jet_class:',opt_degree)\n",
    "print('Optimal lambdas per jet_class:',opt_lambda)\n",
    "print('Maximum accuracy predicted per jet_class:',accuracy)\n",
    "params_per_method.append([opt_alpha, opt_degree, opt_lambda, accuracy])"
   ]
  },
  {
   "cell_type": "code",
   "execution_count": 7,
   "id": "020565c8",
   "metadata": {},
   "outputs": [
    {
     "name": "stdout",
     "output_type": "stream",
     "text": [
      "Optimal alphas per jet_class: [3.0, 3.0, 3.0, 4.0]\n",
      "Optimal degrees per jet_class: [7.0, 7.0, 7.0, 6.0]\n",
      "Optimal lambdas per jet_class: [-1.0, -1.0, -1.0, -1.0]\n",
      "Maximum accuracy predicted per jet_class: [0.843121947313636, 0.8075544207159805, 0.8191309871176481, 0.8323858509294352]\n"
     ]
    }
   ],
   "source": [
    "# LEAST SQUARES\n",
    "method = methods[2]\n",
    "lambdas_candidates = None\n",
    "    \n",
    "opt_degree, opt_lambda, opt_alpha, accuracy = select_parameters_jet(y,x_train, method, degrees_candidates,\n",
    "                                                                  alphas_candidates,K, SEED, lambdas_candidates)\n",
    "print('Optimal alphas per jet_class:',opt_alpha)\n",
    "print('Optimal degrees per jet_class:',opt_degree)\n",
    "print('Optimal lambdas per jet_class:',opt_lambda)\n",
    "print('Maximum accuracy predicted per jet_class:',accuracy)\n",
    "params_per_method.append([opt_alpha, opt_degree, opt_lambda, accuracy])"
   ]
  },
  {
   "cell_type": "code",
   "execution_count": 8,
   "id": "1c5ecfd7",
   "metadata": {},
   "outputs": [
    {
     "name": "stdout",
     "output_type": "stream",
     "text": [
      "Optimal alphas per jet_class: [3.0, 3.0, 3.0, 4.0]\n",
      "Optimal degrees per jet_class: [7.0, 7.0, 7.0, 6.0]\n",
      "Optimal lambdas per jet_class: [2.5e-05, 1e-06, 2.5e-05, 2.5e-05]\n",
      "Maximum accuracy predicted per jet_class: [0.8431419649291376, 0.8076317961415453, 0.8192103852795807, 0.8323858509294352]\n"
     ]
    }
   ],
   "source": [
    "# RIDGE REGRESSION\n",
    "method = methods[3]\n",
    "lambdas_candidates = [2.5e-05, 1e-06, 1e-07]\n",
    "    \n",
    "opt_degree, opt_lambda, opt_alpha, accuracy = select_parameters_jet(y,x_train, method, degrees_candidates,\n",
    "                                                                  alphas_candidates,K, SEED, lambdas_candidates)\n",
    "print('Optimal alphas per jet_class:',opt_alpha)\n",
    "print('Optimal degrees per jet_class:',opt_degree)\n",
    "print('Optimal lambdas per jet_class:',opt_lambda)\n",
    "print('Maximum accuracy predicted per jet_class:',accuracy)\n",
    "params_per_method.append([opt_alpha, opt_degree, opt_lambda, accuracy])"
   ]
  },
  {
   "cell_type": "code",
   "execution_count": 9,
   "id": "e8b14fd7",
   "metadata": {},
   "outputs": [
    {
     "name": "stdout",
     "output_type": "stream",
     "text": [
      "Optimal alphas per jet_class: [9.0, 9.0, 9.0, 9.0]\n",
      "Optimal degrees per jet_class: [1.0, 1.0, 1.0, 1.0]\n",
      "Optimal lambdas per jet_class: [-1.0, -1.0, -1.0, -1.0]\n",
      "Maximum accuracy predicted per jet_class: [0.8117042997838099, 0.7000928505106777, 0.6981678874134064, 0.7082656560187691]\n"
     ]
    }
   ],
   "source": [
    "# LOGISTIC REGRESSION\n",
    "method = methods[4]\n",
    "lambdas_candidates = None\n",
    "degrees_candidates = [1]\n",
    "y_log = np.where(y == 1,1,0)\n",
    "\n",
    "opt_degree, opt_lambda, opt_alpha, accuracy = select_parameters_jet(y_log,x_train, method, degrees_candidates,\n",
    "                                                                  alphas_candidates,K, SEED, lambdas_candidates, log=True)\n",
    "print('Optimal alphas per jet_class:',opt_alpha)\n",
    "print('Optimal degrees per jet_class:',opt_degree)\n",
    "print('Optimal lambdas per jet_class:',opt_lambda)\n",
    "print('Maximum accuracy predicted per jet_class:',accuracy)\n",
    "params_per_method.append([opt_alpha, opt_degree, opt_lambda, accuracy])"
   ]
  },
  {
   "cell_type": "code",
   "execution_count": 10,
   "id": "85620a6e",
   "metadata": {},
   "outputs": [
    {
     "name": "stdout",
     "output_type": "stream",
     "text": [
      "Optimal alphas per jet_class: [9.0, 9.0, 9.0, 9.0]\n",
      "Optimal degrees per jet_class: [1.0, 1.0, 1.0, 1.0]\n",
      "Optimal lambdas per jet_class: [2.5e-05, 2.5e-05, 2.5e-05, 2.5e-05]\n",
      "Maximum accuracy predicted per jet_class: [0.8117042997838099, 0.7000928505106777, 0.6981678874134064, 0.7082656560187691]\n"
     ]
    }
   ],
   "source": [
    "# REGULARIZED LOGISTIC REGRESSION\n",
    "method = methods[5]\n",
    "lambdas_candidates = [2.5e-05, 1e-06, 1e-07]\n",
    "degrees_candidates = [1]\n",
    "y_log = np.where(y == 1,1,0)\n",
    "    \n",
    "opt_degree, opt_lambda, opt_alpha, accuracy = select_parameters_jet(y_log,x_train, method, degrees_candidates,\n",
    "                                                                  alphas_candidates,K, SEED, lambdas_candidates, log=True)\n",
    "print('Optimal alphas per jet_class:',opt_alpha)\n",
    "print('Optimal degrees per jet_class:',opt_degree)\n",
    "print('Optimal lambdas per jet_class:',opt_lambda)\n",
    "print('Maximum accuracy predicted per jet_class:',accuracy)\n",
    "params_per_method.append([opt_alpha, opt_degree, opt_lambda, accuracy])"
   ]
  },
  {
   "cell_type": "code",
   "execution_count": null,
   "id": "b32cd20d",
   "metadata": {},
   "outputs": [],
   "source": []
  }
 ],
 "metadata": {
  "kernelspec": {
   "display_name": "Python 3 (ipykernel)",
   "language": "python",
   "name": "python3"
  },
  "language_info": {
   "codemirror_mode": {
    "name": "ipython",
    "version": 3
   },
   "file_extension": ".py",
   "mimetype": "text/x-python",
   "name": "python",
   "nbconvert_exporter": "python",
   "pygments_lexer": "ipython3",
   "version": "3.9.12"
  },
  "vscode": {
   "interpreter": {
    "hash": "8e002c473d40394036330ccbc573ff2124176c3c3fbf7652b00c2ff8632cfa48"
   }
  }
 },
 "nbformat": 4,
 "nbformat_minor": 5
}
