{
 "cells": [
  {
   "cell_type": "markdown",
   "id": "2e616efb",
   "metadata": {},
   "source": [
    "# Project 1 - Team BAK"
   ]
  },
  {
   "cell_type": "markdown",
   "id": "c5c038e6",
   "metadata": {},
   "source": [
    "## Step 1 - Load and Preprocess Data"
   ]
  },
  {
   "cell_type": "code",
   "execution_count": null,
   "id": "ceffe021",
   "metadata": {},
   "outputs": [],
   "source": [
    "#Import some libraries\n",
    "%matplotlib inline\n",
    "import numpy as np\n",
    "import matplotlib.pyplot as plt\n",
    "import datetime\n",
    "%load_ext autoreload\n",
    "%autoreload 2\n",
    "\n",
    "from pre_process import *\n",
    "from cross_validation import *\n",
    "from implementations import *"
   ]
  },
  {
   "cell_type": "code",
   "execution_count": null,
   "id": "c4c33a25",
   "metadata": {},
   "outputs": [],
   "source": [
    "#Load the data\n",
    "y, x, ids = load_csv_data('train.csv')\n",
    "_, x_test, ids_test = load_csv_data('test.csv')\n",
    "x_train, x_test = pre_process_data(x, x_test)"
   ]
  },
  {
   "cell_type": "code",
   "execution_count": null,
   "id": "bd9ae6c1",
   "metadata": {},
   "outputs": [],
   "source": [
    "y.shape, x_train.shape, ids.shape, x_test.shape, ids_test.shape"
   ]
  },
  {
   "cell_type": "markdown",
   "id": "2db4053b",
   "metadata": {},
   "source": [
    "### HYPERPARAMETER SELECTION"
   ]
  },
  {
   "cell_type": "code",
   "execution_count": null,
   "id": "6a6fb6bc",
   "metadata": {},
   "outputs": [],
   "source": [
    "# CONSTANTS\n",
    "SEED = 7\n",
    "K = 3\n",
    "JET_COLUMN = 16\n",
    "\n",
    "# canditates parameters\n",
    "degrees_candidates = [3,6]\n",
    "alphas_candidates=[5, 7, 9]\n",
    "\n",
    "# SELECT METHOD\n",
    "methods = [mean_squared_error_gd, mean_squared_error_sgd, least_squares, ridge_regression, \n",
    "           logistic_regression_gradient_descent, logistic_regression_regularized_gradient_descent]\n",
    "params_per_method = []"
   ]
  },
  {
   "cell_type": "code",
   "execution_count": null,
   "id": "bb4decdc",
   "metadata": {
    "scrolled": false
   },
   "outputs": [],
   "source": [
    "# MSE GRADIENT DESCENT\n",
    "method = methods[0]\n",
    "lambdas_candidates = None\n",
    "    \n",
    "opt_degree, opt_lambda, opt_alpha, accuracy = select_parameters_jet(y,x_train, method, degrees_candidates,\n",
    "                                                                  alphas_candidates,K, SEED, lambdas_candidates)\n",
    "print('Optimal alphas per jet_class:',opt_alpha)\n",
    "print('Optimal degrees per jet_class:',opt_degree)\n",
    "print('Optimal lambdas per jet_class:',opt_lambda)\n",
    "print('Maximum accuracy predicted per jet_class:',accuracy)\n",
    "params_per_method.append([opt_alpha, opt_degree, opt_lambda, accuracy])"
   ]
  },
  {
   "cell_type": "code",
   "execution_count": null,
   "id": "3ab5b6c3",
   "metadata": {
    "scrolled": false
   },
   "outputs": [],
   "source": [
    "# MSE STOCHASTIC GRADIENT DESCENT\n",
    "method = methods[1]\n",
    "lambdas_candidates = None\n",
    "    \n",
    "opt_degree, opt_lambda, opt_alpha, accuracy = select_parameters_jet(y,x_train, method, degrees_candidates,\n",
    "                                                                  alphas_candidates,K, SEED, lambdas_candidates)\n",
    "print('Optimal alphas per jet_class:',opt_alpha)\n",
    "print('Optimal degrees per jet_class:',opt_degree)\n",
    "print('Optimal lambdas per jet_class:',opt_lambda)\n",
    "print('Maximum accuracy predicted per jet_class:',accuracy)\n",
    "params_per_method.append([opt_alpha, opt_degree, opt_lambda, accuracy])"
   ]
  },
  {
   "cell_type": "code",
   "execution_count": null,
   "id": "020565c8",
   "metadata": {},
   "outputs": [],
   "source": [
    "# LEAST SQUARES\n",
    "method = methods[2]\n",
    "lambdas_candidates = None\n",
    "    \n",
    "opt_degree, opt_lambda, opt_alpha, accuracy = select_parameters_jet(y,x_train, method, degrees_candidates,\n",
    "                                                                  alphas_candidates,K, SEED, lambdas_candidates)\n",
    "print('Optimal alphas per jet_class:',opt_alpha)\n",
    "print('Optimal degrees per jet_class:',opt_degree)\n",
    "print('Optimal lambdas per jet_class:',opt_lambda)\n",
    "print('Maximum accuracy predicted per jet_class:',accuracy)\n",
    "params_per_method.append([opt_alpha, opt_degree, opt_lambda, accuracy])"
   ]
  },
  {
   "cell_type": "code",
   "execution_count": null,
   "id": "1c5ecfd7",
   "metadata": {},
   "outputs": [],
   "source": [
    "# RIDGE REGRESSION\n",
    "method = methods[3]\n",
    "lambdas_candidates = [1e-05, 1e-06, 1e-07]\n",
    "    \n",
    "opt_degree, opt_lambda, opt_alpha, accuracy = select_parameters_jet(y,x_train, method, degrees_candidates,\n",
    "                                                                  alphas_candidates,K, SEED, lambdas_candidates)\n",
    "print('Optimal alphas per jet_class:',opt_alpha)\n",
    "print('Optimal degrees per jet_class:',opt_degree)\n",
    "print('Optimal lambdas per jet_class:',opt_lambda)\n",
    "print('Maximum accuracy predicted per jet_class:',accuracy)\n",
    "params_per_method.append([opt_alpha, opt_degree, opt_lambda, accuracy])"
   ]
  },
  {
   "cell_type": "code",
   "execution_count": null,
   "id": "e8b14fd7",
   "metadata": {},
   "outputs": [],
   "source": [
    "# LOGISTIC REGRESSION\n",
    "method = methods[4]\n",
    "lambdas_candidates = None\n",
    "degrees_candidates = [1]\n",
    "y_log = np.where(y == 1,1,0)\n",
    "\n",
    "opt_degree, opt_lambda, opt_alpha, accuracy = select_parameters_jet(y_log,x_train, method, degrees_candidates,\n",
    "                                                                  alphas_candidates,K, SEED, lambdas_candidates, log=True)\n",
    "print('Optimal alphas per jet_class:',opt_alpha)\n",
    "print('Optimal degrees per jet_class:',opt_degree)\n",
    "print('Optimal lambdas per jet_class:',opt_lambda)\n",
    "print('Maximum accuracy predicted per jet_class:',accuracy)\n",
    "params_per_method.append([opt_alpha, opt_degree, opt_lambda, accuracy])"
   ]
  },
  {
   "cell_type": "code",
   "execution_count": null,
   "id": "85620a6e",
   "metadata": {},
   "outputs": [],
   "source": [
    "# REGULARIZED LOGISTIC REGRESSION\n",
    "method = methods[5]\n",
    "lambdas_candidates = [1e-05, 1e-07]\n",
    "degrees_candidates = [1]\n",
    "y_log = np.where(y == 1,1,0)\n",
    "    \n",
    "opt_degree, opt_lambda, opt_alpha, accuracy = select_parameters_jet(y,x_train, method, degrees_candidates,\n",
    "                                                                  alphas_candidates,K, SEED, lambdas_candidates, log=True)\n",
    "print('Optimal alphas per jet_class:',opt_alpha)\n",
    "print('Optimal degrees per jet_class:',opt_degree)\n",
    "print('Optimal lambdas per jet_class:',opt_lambda)\n",
    "print('Maximum accuracy predicted per jet_class:',accuracy)\n",
    "params_per_method.append([opt_alpha, opt_degree, opt_lambda, accuracy])"
   ]
  },
  {
   "cell_type": "code",
   "execution_count": null,
   "id": "b32cd20d",
   "metadata": {},
   "outputs": [],
   "source": []
  },
  {
   "cell_type": "code",
   "execution_count": null,
   "id": "da998ad8",
   "metadata": {},
   "outputs": [],
   "source": [
    "# Split data in k-fold\n",
    "k_indices = build_k_indices(y, K, SEED)\n",
    "\n",
    "if method != ridge_regression or method != logistic_regression_regularized_gradient_descent:\n",
    "    opt_lambda = None\n",
    "\n",
    "accs_train = []\n",
    "accs_test = []\n",
    "\n",
    "for k in range(K):\n",
    "    acc_train, acc_test = cross_validation_result(y, x_train, method, k_indices, k, opt_degree, opt_alpha, opt_lambda)\n",
    "    accs_train.append(acc_train)\n",
    "    accs_test.append(acc_test)\n",
    "    \n",
    "for i in range(len(accs_train)):\n",
    "    print(\"Iter %d: Training accuracy: %f / Test accuracy : %f\" % (i, accs_train[i], accs_test[i]))\n",
    "\n",
    "print(\"\\nAverage test accuracy: %f\" % np.mean(accs_test))\n",
    "print(\"Variance test accuracy: %f\" % np.var(accs_test))"
   ]
  },
  {
   "cell_type": "code",
   "execution_count": null,
   "id": "364978f7",
   "metadata": {},
   "outputs": [],
   "source": [
    "method_pred = np.zeros(x_test.shape[0])\n",
    "\n",
    "\n",
    "jet_train_class = {\n",
    "    0: x_train[:, JET_COLUMN] == 0,\n",
    "    1: x_train[:, JET_COLUMN] == 1,\n",
    "    2: x_train[:, JET_COLUMN] == 2, \n",
    "    3: x_train[:, JET_COLUMN] == 3\n",
    "}\n",
    "\n",
    "    \n",
    "jet_test_class = {\n",
    "    0: x_test[:, JET_COLUMN] == 0,\n",
    "    1: x_test[:, JET_COLUMN] == 1,\n",
    "    2: x_test[:, JET_COLUMN] == 2, \n",
    "    3: x_test[:, JET_COLUMN] == 3\n",
    "}\n",
    "\n",
    "\n",
    "for i in range(4):\n",
    "    x_jet = x_train[jet_train_class[i]]\n",
    "    x_jet_test = x_test[jet_test_class[i]]\n",
    "    y_jet = y_log[jet_train_class[i]]\n",
    "    \n",
    "    # Pre-processing and transformation of the training set and test set\n",
    "    x_jet, x_jet_test = modify_data(x_jet, x_jet_test, opt_alpha[i], opt_degree[i])\n",
    "    \n",
    "    # Train the model through Ridge Regression\n",
    "    best_w, _ = method(y_jet, x_jet)\n",
    "    \n",
    "    # Prediction\n",
    "    pred = get_predictions(best_w, x_jet_test)\n",
    "    method_pred[jet_test_class[i]] = pred\n",
    "\n",
    "method_pred"
   ]
  },
  {
   "cell_type": "code",
   "execution_count": null,
   "id": "cda4031d",
   "metadata": {},
   "outputs": [],
   "source": [
    "def savePredictions(pred, title=\"submission\"):\n",
    "    y_pred = np.c_[ids_test, pred].astype(str)\n",
    "    y_pred = np.insert(y_pred, 0, [\"Id\", \"Prediction\"], axis=0)\n",
    "    np.savetxt(title + \".csv\", y_pred, fmt=\"%s\", delimiter=\",\")\n",
    "\n",
    "savePredictions(ridge_pred)"
   ]
  }
 ],
 "metadata": {
  "kernelspec": {
   "display_name": "Python 3 (ipykernel)",
   "language": "python",
   "name": "python3"
  },
  "language_info": {
   "codemirror_mode": {
    "name": "ipython",
    "version": 3
   },
   "file_extension": ".py",
   "mimetype": "text/x-python",
   "name": "python",
   "nbconvert_exporter": "python",
   "pygments_lexer": "ipython3",
   "version": "3.9.12"
  },
  "vscode": {
   "interpreter": {
    "hash": "8e002c473d40394036330ccbc573ff2124176c3c3fbf7652b00c2ff8632cfa48"
   }
  }
 },
 "nbformat": 4,
 "nbformat_minor": 5
}
