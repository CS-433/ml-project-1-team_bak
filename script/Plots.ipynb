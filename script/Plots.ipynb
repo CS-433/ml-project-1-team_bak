{
 "cells": [
  {
   "cell_type": "code",
   "execution_count": null,
   "id": "0541474b",
   "metadata": {},
   "outputs": [],
   "source": [
    "\n",
    "import numpy as np\n",
    "from helpfulfun import *\n",
    "import matplotlib.pyplot as plt    \n",
    "%load_ext autoreload\n",
    "%autoreload 2\n",
    "\n",
    "seed=10"
   ]
  },
  {
   "cell_type": "markdown",
   "id": "68dfa985",
   "metadata": {},
   "source": [
    "# Load the Data"
   ]
  },
  {
   "cell_type": "code",
   "execution_count": null,
   "id": "ee2a08c1",
   "metadata": {},
   "outputs": [],
   "source": [
    "y, x, ids = load_csv_data('train.csv')\n",
    "_, x_test, ids_test = load_csv_data('test.csv')\n",
    "\n",
    "col_names = np.genfromtxt('train.csv', delimiter=\",\", dtype=str,max_rows=1)[2:]\n"
   ]
  },
  {
   "cell_type": "markdown",
   "id": "09d4017f",
   "metadata": {},
   "source": [
    "# Data Exploration\n",
    "### PRI jet num : study of number of jets (the only categorical variable)\n",
    "Let's see the different behavior of the only categorical variable in the dataset.\n",
    "We can clearly see that their behaviors it's wuite equally distributed if we look at the prediction 1, while it's very different if we use prediction -1. Therefore it's a good idea to study all these categories separately. So we decided to split our dataset into 4 distinct classes having value for the variable \"PRI_Jet_num\" respectively 0 ,1, 2, 3."
   ]
  },
  {
   "cell_type": "code",
   "execution_count": null,
   "id": "c1bbfa4b",
   "metadata": {},
   "outputs": [],
   "source": [
    "hist_plot_jet_class(y,x) #look at the function in helpfulfun"
   ]
  },
  {
   "cell_type": "markdown",
   "id": "23819500",
   "metadata": {},
   "source": [
    "## Distribution Analysis\n",
    "This graphs allow us to see which feature will be useful and which features do not provide enough differentiation among different variables."
   ]
  },
  {
   "cell_type": "code",
   "execution_count": null,
   "id": "aeb2c0ff",
   "metadata": {
    "scrolled": true
   },
   "outputs": [],
   "source": [
    "jet_class = {\n",
    "        0: x[:, 22] == 0,\n",
    "        1: x[:, 22] == 1,\n",
    "        2: x[:, 22] == 2, \n",
    "        3: x[:, 22] == 3\n",
    "        }\n",
    "for i in range(len(jet_class)):\n",
    "        \n",
    "        y_i = y[jet_class[i]]\n",
    "        x_i = x[jet_class[i],:]\n",
    "        \n",
    "        print('Jet',i)\n",
    "        print('Number of 1:', list(y_i).count(1))\n",
    "        print('Number of -1:', list(y_i).count(-1))\n",
    "\n",
    "        distributionsPlot(y_i, x_i, col_names)\n",
    "\n",
    "        print('-------------------------------------------')\n",
    "        print('-------------------------------------------')"
   ]
  }
 ],
 "metadata": {
  "kernelspec": {
   "display_name": "Python 3 (ipykernel)",
   "language": "python",
   "name": "python3"
  },
  "language_info": {
   "codemirror_mode": {
    "name": "ipython",
    "version": 3
   },
   "file_extension": ".py",
   "mimetype": "text/x-python",
   "name": "python",
   "nbconvert_exporter": "python",
   "pygments_lexer": "ipython3",
   "version": "3.9.12"
  }
 },
 "nbformat": 4,
 "nbformat_minor": 5
}
